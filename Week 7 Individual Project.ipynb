{
 "cells": [
  {
   "cell_type": "code",
   "execution_count": 9,
   "id": "dd9c07c7",
   "metadata": {},
   "outputs": [
    {
     "name": "stdout",
     "output_type": "stream",
     "text": [
      "Enter the text to be Encrypted: the quick brown fox\n",
      "Plain Text is : the quick brown fox\n",
      "Cipher Text is : qeb nrfzh yoltk clu\n"
     ]
    }
   ],
   "source": [
    "def encrypt_text(plaintext,n): #function to encrypt your message\n",
    "    ans = \"\"\n",
    "    # iterate over the given text\n",
    "    for i in range(len(plaintext)):\n",
    "        ch = plaintext[i]\n",
    "        \n",
    "        # check if space is there then simply add space\n",
    "        if ch==\" \":\n",
    "            ans+=\" \"\n",
    "        # check if a character is uppercase then encrypt it accordingly \n",
    "        elif (ch.isupper()):\n",
    "            ans += chr((ord(ch) + n-65) % 26 + 65)\n",
    "        # check if a character is lowercase then encrypt it accordingly\n",
    "        \n",
    "        else:\n",
    "            ans += chr((ord(ch) + n-97) % 26 + 97)\n",
    "    \n",
    "    return ans\n",
    "\n",
    "plaintext = input(\"Enter the text to be Encrypted: \")\n",
    "n = -3\n",
    "print(\"Plain Text is : \" + plaintext)\n",
    "\n",
    "print(\"Cipher Text is : \" + encrypt_text(plaintext,n))"
   ]
  },
  {
   "cell_type": "code",
   "execution_count": 8,
   "id": "e38a9130",
   "metadata": {},
   "outputs": [
    {
     "name": "stdout",
     "output_type": "stream",
     "text": [
      "Pls enter the Encrypted Text(Cypher Message): QEB NRFZH YOLTK CLU GRJMP LSBO QEB IXWV ALD\n",
      "The Decrypted Text(in Plain Language) is : THE QUICK BROWN FOX JUMPS OVER THE LAZY DOG\n"
     ]
    }
   ],
   "source": [
    "def decrypt_text(plaintext,n):\n",
    "    ans = \"\"\n",
    "    # iterate over the given text\n",
    "    for i in range(len(plaintext)):\n",
    "        ch = plaintext[i]\n",
    "        \n",
    "        # check if space is there then simply add space\n",
    "        if ch==\" \":\n",
    "            ans+=\" \"\n",
    "        # check if a character is uppercase then encrypt it accordingly \n",
    "        elif (ch.isupper()):\n",
    "            ans += chr((ord(ch) + n-65) % 26 + 65)\n",
    "        # check if a character is lowercase then encrypt it accordingly\n",
    "        \n",
    "        else:\n",
    "            ans += chr((ord(ch) + n-97) % 26 + 97)\n",
    "    \n",
    "    return ans\n",
    "\n",
    "plaintext = input(\"Pls enter the Encrypted Text(Cypher Message): \")\n",
    "\n",
    "n = 3 # with a simple right shift of +3, the encrypted text will be decrypted\n",
    "\n",
    "print(\"The Decrypted Text(in Plain Language) is : \" + decrypt_text(plaintext,n))"
   ]
  },
  {
   "cell_type": "code",
   "execution_count": null,
   "id": "ab0f4aef",
   "metadata": {},
   "outputs": [],
   "source": []
  }
 ],
 "metadata": {
  "kernelspec": {
   "display_name": "Python 3 (ipykernel)",
   "language": "python",
   "name": "python3"
  },
  "language_info": {
   "codemirror_mode": {
    "name": "ipython",
    "version": 3
   },
   "file_extension": ".py",
   "mimetype": "text/x-python",
   "name": "python",
   "nbconvert_exporter": "python",
   "pygments_lexer": "ipython3",
   "version": "3.11.3"
  }
 },
 "nbformat": 4,
 "nbformat_minor": 5
}
